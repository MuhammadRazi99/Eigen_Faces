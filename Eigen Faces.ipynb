{
  "cells": [
    {
      "attachments": {},
      "cell_type": "markdown",
      "metadata": {
        "id": "PKql-eLZZ3p4"
      },
      "source": [
        "# Eigen Faces"
      ]
    },
    {
      "attachments": {},
      "cell_type": "markdown",
      "metadata": {
        "id": "qstTF5NObDTf"
      },
      "source": [
        "## Import Libraries"
      ]
    },
    {
      "cell_type": "code",
      "execution_count": null,
      "metadata": {
        "id": "6hMIwgbwbKqF"
      },
      "outputs": [],
      "source": [
        "import pandas as pd\n",
        "import numpy as np\n",
        "import matplotlib.pyplot as plt\n",
        "import os\n",
        "import zipfile\n",
        "import urllib.request\n",
        "from PIL import Image\n",
        "from sklearn import svm\n",
        "from sklearn.metrics import accuracy_score,precision_score  \n",
        "from sklearn.decomposition import PCA"
      ]
    },
    {
      "attachments": {},
      "cell_type": "markdown",
      "metadata": {},
      "source": [
        "## Download and Extract Dataset"
      ]
    },
    {
      "cell_type": "code",
      "execution_count": null,
      "metadata": {},
      "outputs": [],
      "source": [
        "url = 'http://conradsanderson.id.au/lfwcrop/lfwcrop_grey.zip'\n",
        "filename = 'lfwcrop_grey.zip'\n",
        "if not os.path.exists(filename):\n",
        "    urllib.request.urlretrieve(url, filename)\n",
        "with zipfile.ZipFile(filename, 'r') as zip_ref:\n",
        "    zip_ref.extractall('lfw_crop')"
      ]
    },
    {
      "attachments": {},
      "cell_type": "markdown",
      "metadata": {
        "id": "Z8ETXedGbhMx"
      },
      "source": [
        "## Loading an image\n"
      ]
    },
    {
      "attachments": {},
      "cell_type": "markdown",
      "metadata": {
        "id": "FwBrN_lkbnZ-"
      },
      "source": [
        "First we need to load the image from the dataset and then display it using matplotlib library\n"
      ]
    },
    {
      "cell_type": "code",
      "execution_count": null,
      "metadata": {
        "colab": {
          "base_uri": "https://localhost:8080/",
          "height": 432
        },
        "id": "cqBiixB_bwCy",
        "outputId": "210d114e-2509-4369-e1f4-ff1b5e21f48f"
      },
      "outputs": [],
      "source": [
        "# Load an image from the dataset\n",
        "img_path = 'lfw_crop/lfwcrop_grey/faces/Muhammad_Ali_0003.pgm'\n",
        "img = np.asarray(Image.open(img_path)).flatten()\n",
        "img=img.reshape(64,64)\n",
        "# Display the image\n",
        "plt.imshow(img,cmap='gray')\n",
        "plt.show()"
      ]
    },
    {
      "attachments": {},
      "cell_type": "markdown",
      "metadata": {
        "id": "ANL3-mMbeOur"
      },
      "source": [
        "## Import dataset"
      ]
    },
    {
      "cell_type": "code",
      "execution_count": null,
      "metadata": {
        "colab": {
          "base_uri": "https://localhost:8080/"
        },
        "id": "eo0Qc3F0eUz8",
        "outputId": "735a40ec-c3b0-41ed-c974-6fe926f6be74"
      },
      "outputs": [],
      "source": [
        "faces_dir = 'lfw_crop/lfwcrop_grey/faces'\n",
        "faces_files = os.listdir(faces_dir)\n",
        "len(faces_files)"
      ]
    },
    {
      "attachments": {},
      "cell_type": "markdown",
      "metadata": {
        "id": "saUTldmae_dJ"
      },
      "source": [
        "Loading each image of format PGM as a Numpy array and append it to the image list\n"
      ]
    },
    {
      "cell_type": "code",
      "execution_count": null,
      "metadata": {
        "colab": {
          "base_uri": "https://localhost:8080/"
        },
        "id": "IEYdCZonfC2K",
        "outputId": "5ef85ff2-1d95-4e84-b528-7ac09bec581f"
      },
      "outputs": [],
      "source": [
        "img_arrays = []\n",
        "for file in faces_files:\n",
        "    img_path = os.path.join(faces_dir, file)\n",
        "    img = np.asarray(Image.open(img_path)).flatten()\n",
        "    img_arrays.append(img)\n",
        "img_arrays=np.array(img_arrays)\n",
        "img_arrays.shape"
      ]
    },
    {
      "cell_type": "code",
      "execution_count": null,
      "metadata": {
        "colab": {
          "base_uri": "https://localhost:8080/",
          "height": 299
        },
        "id": "1HEPAhe2fMDI",
        "outputId": "6cf35962-6788-4df4-cfef-b0a8a3cc6724"
      },
      "outputs": [],
      "source": [
        "df_faces=pd.DataFrame(img_arrays)\n",
        "faces_files=[i[:-4] for i in faces_files]\n",
        "df_faces.insert(0,\"Names\",faces_files,True)\n",
        "df_faces.head()"
      ]
    },
    {
      "attachments": {},
      "cell_type": "markdown",
      "metadata": {
        "id": "M3S1TwGjfSq5"
      },
      "source": [
        "## Displaying an Image from Dataframe"
      ]
    },
    {
      "cell_type": "code",
      "execution_count": null,
      "metadata": {
        "colab": {
          "base_uri": "https://localhost:8080/",
          "height": 432
        },
        "id": "y2tXkQxtfWSA",
        "outputId": "6ecb8b15-5ead-43c4-dd2c-aafdab5da469"
      },
      "outputs": [],
      "source": [
        "img=np.asarray(df_faces[df_faces.Names==\"Muhammad_Ali_0003\"].iloc[:,1:])\n",
        "img=img.reshape(64,64)\n",
        "plt.imshow(img,cmap='gray')\n",
        "plt.show()"
      ]
    },
    {
      "attachments": {},
      "cell_type": "markdown",
      "metadata": {
        "id": "RAbXuOfffbEe"
      },
      "source": [
        "## Creating a dataset as mentioned in the list"
      ]
    },
    {
      "attachments": {},
      "cell_type": "markdown",
      "metadata": {
        "id": "Jg_14uQqmnJy"
      },
      "source": [
        "Here, we are considering that the same images are represented as 1 and different images are representing as 0."
      ]
    },
    {
      "attachments": {},
      "cell_type": "markdown",
      "metadata": {
        "id": "SNGdgBDBf2p-"
      },
      "source": [
        "We have declared a function make_a_dataframe to combine all the training and testing datasets."
      ]
    },
    {
      "cell_type": "code",
      "execution_count": null,
      "metadata": {},
      "outputs": [],
      "source": [
        "lists_dir = 'lfw_crop/lfwcrop_grey/lists'\n",
        "list_files=os.listdir(lists_dir)\n",
        "len(list_files)"
      ]
    },
    {
      "cell_type": "code",
      "execution_count": null,
      "metadata": {
        "id": "2VMCTrV1fzqD"
      },
      "outputs": [],
      "source": [
        "def make_a_dataframe(filename):\n",
        "    path = os.path.join(lists_dir, filename)\n",
        "    data=[]\n",
        "    if filename.find(\"same\")!=-1:\n",
        "        with open(path) as f:\n",
        "            for line in f:\n",
        "                name1,name2=line.split(\" \")\n",
        "                name2=name2.strip()\n",
        "                value=np.concatenate((df_faces[df_faces.Names==name1].iloc[:,1:],df_faces[df_faces.Names==name2].iloc[:,1:]),axis=None)\n",
        "                data.append([1]+value.tolist())\n",
        "    else:\n",
        "        with open(path) as f:\n",
        "            for line in f:\n",
        "                name1,name2=line.split(\" \")\n",
        "                name2=name2.strip()\n",
        "                value=np.concatenate((df_faces[df_faces.Names==name1].iloc[:,1:],df_faces[df_faces.Names==name2].iloc[:,1:]),axis=None)\n",
        "                data.append([0]+value.tolist())\n",
        "    \n",
        "    dataframe=pd.DataFrame(data)\n",
        "    return dataframe"
      ]
    },
    {
      "cell_type": "code",
      "execution_count": null,
      "metadata": {
        "colab": {
          "base_uri": "https://localhost:8080/",
          "height": 299
        },
        "id": "nDgLVa73atyM",
        "outputId": "9bff8d37-1f7b-4492-e37f-e571272d88b3"
      },
      "outputs": [],
      "source": [
        "train=pd.DataFrame()\n",
        "test=pd.DataFrame()\n",
        "for file in list_files:\n",
        "    if file.find(\"train\")==-1:\n",
        "        test=pd.concat([test,make_a_dataframe(file)],axis=0) \n",
        "    else:\n",
        "        train=pd.concat([train,make_a_dataframe(file)],axis=0)\n"
      ]
    },
    {
      "cell_type": "code",
      "execution_count": null,
      "metadata": {
        "colab": {
          "base_uri": "https://localhost:8080/"
        },
        "id": "KCKxzRQVqHcv",
        "outputId": "958956ae-5b6f-4484-beb5-7115949a491a"
      },
      "outputs": [],
      "source": [
        "test.shape,train.shape"
      ]
    },
    {
      "attachments": {},
      "cell_type": "markdown",
      "metadata": {
        "id": "fy7Wsu4XmUzE"
      },
      "source": [
        "## Model Creation"
      ]
    },
    {
      "attachments": {},
      "cell_type": "markdown",
      "metadata": {
        "id": "P27Ug320onTY"
      },
      "source": [
        "we will try to check the accuracy of the images before applying PCA using the unsupervised machine learning model SVM (Support Vector Machine)"
      ]
    },
    {
      "cell_type": "code",
      "execution_count": null,
      "metadata": {
        "colab": {
          "base_uri": "https://localhost:8080/",
          "height": 299
        },
        "id": "TGjml1V0rsCN",
        "outputId": "5c4751ab-459d-473b-b05a-3e123bd58bad"
      },
      "outputs": [],
      "source": [
        "y=train[0]\n",
        "train.drop([0],axis=1,inplace=True)\n",
        "y_test=test[0]\n",
        "test.drop([0],axis=1,inplace=True)\n",
        "train.head()"
      ]
    },
    {
      "attachments": {},
      "cell_type": "markdown",
      "metadata": {
        "id": "CLKmlCpEshci"
      },
      "source": [
        "### Fitting and Prediction of the Model"
      ]
    },
    {
      "cell_type": "code",
      "execution_count": null,
      "metadata": {
        "id": "TstPx6CfpOkV"
      },
      "outputs": [],
      "source": [
        "model=svm.SVC()\n",
        "model.fit(train,y)"
      ]
    },
    {
      "cell_type": "code",
      "execution_count": null,
      "metadata": {
        "id": "7k-CG_TWs53R"
      },
      "outputs": [],
      "source": [
        "y_pred=model.predict(test)"
      ]
    },
    {
      "attachments": {},
      "cell_type": "markdown",
      "metadata": {
        "id": "3EZLdyUVs0B9"
      },
      "source": [
        "### Accuracy and Precision"
      ]
    },
    {
      "cell_type": "code",
      "execution_count": null,
      "metadata": {
        "id": "uFuByPxJumWh"
      },
      "outputs": [],
      "source": [
        "accuracy_before=accuracy_score(y_test,y_pred)\n",
        "precision_before=precision_score(y_test,y_pred)\n",
        "accuracy_before,precision_before"
      ]
    },
    {
      "attachments": {},
      "cell_type": "markdown",
      "metadata": {},
      "source": [
        "## Applying PCA 97%"
      ]
    },
    {
      "attachments": {},
      "cell_type": "markdown",
      "metadata": {},
      "source": [
        "now, we will apply PCA for 97% of data."
      ]
    },
    {
      "cell_type": "code",
      "execution_count": null,
      "metadata": {},
      "outputs": [],
      "source": [
        "pca=PCA(0.97)\n",
        "train_pca1=pca.fit_transform(train,y)\n",
        "test_pca1=pca.transform(test)\n",
        "train_pca1.shape,test_pca1.shape"
      ]
    },
    {
      "attachments": {},
      "cell_type": "markdown",
      "metadata": {},
      "source": [
        "### Fitting and Prediction of the Model"
      ]
    },
    {
      "cell_type": "code",
      "execution_count": null,
      "metadata": {},
      "outputs": [],
      "source": [
        "model=svm.SVC()\n",
        "model.fit(train_pca1,y)"
      ]
    },
    {
      "cell_type": "code",
      "execution_count": null,
      "metadata": {},
      "outputs": [],
      "source": [
        "y_pred=model.predict(test_pca1)"
      ]
    },
    {
      "attachments": {},
      "cell_type": "markdown",
      "metadata": {},
      "source": [
        "### Accuracy and Precision"
      ]
    },
    {
      "cell_type": "code",
      "execution_count": null,
      "metadata": {},
      "outputs": [],
      "source": [
        "accuracy_97=accuracy_score(y_test,y_pred)\n",
        "precision_97=precision_score(y_test,y_pred)\n",
        "accuracy_97,precision_97"
      ]
    },
    {
      "attachments": {},
      "cell_type": "markdown",
      "metadata": {},
      "source": [
        "## Applying PCA 95%"
      ]
    },
    {
      "attachments": {},
      "cell_type": "markdown",
      "metadata": {},
      "source": [
        "now, we will apply PCA for 95% of data."
      ]
    },
    {
      "cell_type": "code",
      "execution_count": null,
      "metadata": {},
      "outputs": [],
      "source": [
        "pca=PCA(0.95)\n",
        "train_pca2=pca.fit_transform(train,y)\n",
        "test_pca2=pca.transform(test)\n",
        "train_pca2.shape,test_pca2.shape"
      ]
    },
    {
      "attachments": {},
      "cell_type": "markdown",
      "metadata": {},
      "source": [
        "### Fitting and Prediction of the Model"
      ]
    },
    {
      "cell_type": "code",
      "execution_count": null,
      "metadata": {},
      "outputs": [],
      "source": [
        "model=svm.SVC()\n",
        "model.fit(train_pca2,y)"
      ]
    },
    {
      "cell_type": "code",
      "execution_count": null,
      "metadata": {},
      "outputs": [],
      "source": [
        "y_pred=model.predict(test_pca2)"
      ]
    },
    {
      "attachments": {},
      "cell_type": "markdown",
      "metadata": {},
      "source": [
        "### Accuracy and Precision"
      ]
    },
    {
      "cell_type": "code",
      "execution_count": null,
      "metadata": {},
      "outputs": [],
      "source": [
        "accuracy_95=accuracy_score(y_test,y_pred)\n",
        "precision_95=precision_score(y_test,y_pred)\n",
        "accuracy_95,precision_95"
      ]
    },
    {
      "attachments": {},
      "cell_type": "markdown",
      "metadata": {},
      "source": [
        "## Data Visualization"
      ]
    },
    {
      "cell_type": "code",
      "execution_count": null,
      "metadata": {},
      "outputs": [],
      "source": [
        "data = {'Method': ['Before PCA', 'PCA 97%', 'PCA 95%'],\n",
        "        'Accuracy': [accuracy_before,accuracy_97,accuracy_95],\n",
        "        \"Precision\":[precision_before,precision_97,precision_95]\n",
        "       }\n",
        "vis = pd.DataFrame(data)\n",
        "plt.figure(figsize=(10,12))\n",
        "vis.plot.bar(x='Method')\n",
        "plt.xticks(rotation=45, ha='right')\n",
        "plt.title('Method Vs Accuracy & Precision', fontsize=14)\n",
        "plt.xlabel('Method', fontsize=14)\n",
        "plt.ylabel('Accuracy & Precision', fontsize=14)\n",
        "plt.legend()\n",
        "plt.savefig(\"Comparison.png\")\n",
        "plt.show()"
      ]
    }
  ],
  "metadata": {
    "accelerator": "GPU",
    "colab": {
      "gpuType": "T4",
      "provenance": []
    },
    "gpuClass": "standard",
    "kernelspec": {
      "display_name": "Python 3",
      "name": "python3"
    },
    "language_info": {
      "codemirror_mode": {
        "name": "ipython",
        "version": 3
      },
      "file_extension": ".py",
      "mimetype": "text/x-python",
      "name": "python",
      "nbconvert_exporter": "python",
      "pygments_lexer": "ipython3",
      "version": "3.10.5"
    }
  },
  "nbformat": 4,
  "nbformat_minor": 0
}
